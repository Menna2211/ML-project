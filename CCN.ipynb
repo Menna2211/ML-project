{
  "nbformat": 4,
  "nbformat_minor": 0,
  "metadata": {
    "colab": {
      "provenance": []
    },
    "kernelspec": {
      "name": "python3",
      "display_name": "Python 3"
    },
    "language_info": {
      "name": "python"
    },
    "accelerator": "GPU"
  },
  "cells": [
    {
      "cell_type": "code",
      "source": [
        "# import the necessary packages\n",
        "from keras import backend as K\n",
        "from keras.models import Sequential\n",
        "from keras.layers.convolutional import Conv2D\n",
        "from keras.layers.convolutional import MaxPooling2D\n",
        "from keras.layers.core import Activation\n",
        "from keras.layers.core import Flatten\n",
        "from keras.layers.core import Dense\n",
        "from keras.datasets import mnist\n",
        "from keras.utils import np_utils\n",
        "from tensorflow.keras.optimizers import SGD, RMSprop, Adam\n",
        "import numpy as np\n",
        "\n",
        "import matplotlib.pyplot as plt\n",
        "\n",
        "np.random.seed(1671)  # for reproducibility"
      ],
      "metadata": {
        "id": "91BlCoTC4j17"
      },
      "execution_count": null,
      "outputs": []
    },
    {
      "cell_type": "code",
      "source": [
        "\n",
        "#define the convnet\n",
        "class LeNet:\n",
        "\t@staticmethod\n",
        "\tdef build(input_shape, classes):\n",
        "\t\tmodel = Sequential()\n",
        "\t\t# CONV => RELU => POOL\n",
        "\t\tmodel.add(Conv2D(20, kernel_size=5, padding=\"same\",\n",
        "\t\t\tinput_shape=input_shape))\n",
        "\t\tmodel.add(Activation(\"relu\"))\n",
        "\t\tmodel.add(MaxPooling2D(pool_size=(2, 2), strides=(2, 2)))\n",
        "\t\t# CONV => RELU => POOL\n",
        "\t\tmodel.add(Conv2D(50, kernel_size=5, padding=\"same\"))\n",
        "\t\tmodel.add(Activation(\"relu\"))\n",
        "\t\tmodel.add(MaxPooling2D(pool_size=(2, 2), strides=(2, 2)))\n",
        "\t\t# Flatten => RELU layers\n",
        "\t\tmodel.add(Flatten())\n",
        "\t\tmodel.add(Dense(500))\n",
        "\t\tmodel.add(Activation(\"relu\"))\n",
        "\n",
        "\t\t# a softmax classifier\n",
        "\t\tmodel.add(Dense(classes))\n",
        "\t\tmodel.add(Activation(\"softmax\"))\n",
        "\n",
        "\t\treturn model\n"
      ],
      "metadata": {
        "id": "qwseKQop4n7b"
      },
      "execution_count": null,
      "outputs": []
    },
    {
      "cell_type": "code",
      "source": [
        "# network and training\n",
        "NB_EPOCH = 20\n",
        "BATCH_SIZE = 128\n",
        "VERBOSE = 1\n",
        "OPTIMIZER = Adam()\n",
        "VALIDATION_SPLIT=0.2\n"
      ],
      "metadata": {
        "id": "BpEbiiFj42tY"
      },
      "execution_count": null,
      "outputs": []
    },
    {
      "cell_type": "code",
      "source": [
        "IMG_ROWS, IMG_COLS = 28, 28 # input image dimensions\n",
        "NB_CLASSES = 10  # number of outputs = number of digits\n",
        "INPUT_SHAPE = (1, IMG_ROWS, IMG_COLS)\n",
        "\n",
        "# data: shuffled and split between train and test sets\n",
        "(X_train, y_train), (X_test, y_test) = mnist.load_data()\n",
        "K.set_image_data_format('channels_first')\n",
        "\n",
        "# consider them as float and normalize\n",
        "X_train = X_train.astype('float32')\n",
        "X_test = X_test.astype('float32')\n",
        "X_train /= 255\n",
        "X_test /= 255\n",
        "\n",
        "# we need a 60K x [1 x 28 x 28] shape as input to the CONVNET\n",
        "X_train = X_train[:, np.newaxis, :, :]\n",
        "X_test = X_test[:, np.newaxis, :, :]\n",
        "\n",
        "print(X_train.shape[0], 'train samples')\n",
        "print(X_test.shape[0], 'test samples')\n",
        "\n",
        "# convert class vectors to binary class matrices\n",
        "y_train = np_utils.to_categorical(y_train, NB_CLASSES)\n",
        "y_test = np_utils.to_categorical(y_test, NB_CLASSES)\n"
      ],
      "metadata": {
        "colab": {
          "base_uri": "https://localhost:8080/"
        },
        "id": "zSfv5YQK49kE",
        "outputId": "3c7e51c5-f1e1-4b8c-c4fe-76e760985ee5"
      },
      "execution_count": null,
      "outputs": [
        {
          "output_type": "stream",
          "name": "stdout",
          "text": [
            "60000 train samples\n",
            "10000 test samples\n"
          ]
        }
      ]
    },
    {
      "cell_type": "code",
      "source": [
        "# initialize the optimizer and model\n",
        "model = LeNet.build(input_shape=INPUT_SHAPE, classes=NB_CLASSES)\n",
        "model.compile(loss=\"categorical_crossentropy\", optimizer=OPTIMIZER,metrics=[\"accuracy\"])\n",
        "\n",
        "history = model.fit(X_train, y_train,batch_size=BATCH_SIZE, epochs=NB_EPOCH,verbose=VERBOSE ,validation_split=VALIDATION_SPLIT )\n",
        "\n"
      ],
      "metadata": {
        "colab": {
          "base_uri": "https://localhost:8080/"
        },
        "id": "qUsObwcd5K_3",
        "outputId": "3f6645f6-6448-45a9-8606-348561fa8b46"
      },
      "execution_count": null,
      "outputs": [
        {
          "output_type": "stream",
          "name": "stdout",
          "text": [
            "Epoch 1/20\n",
            "375/375 [==============================] - 12s 23ms/step - loss: 0.1788 - accuracy: 0.9460 - val_loss: 0.0595 - val_accuracy: 0.9818\n",
            "Epoch 2/20\n",
            "375/375 [==============================] - 6s 17ms/step - loss: 0.0486 - accuracy: 0.9849 - val_loss: 0.0416 - val_accuracy: 0.9879\n",
            "Epoch 3/20\n",
            "375/375 [==============================] - 6s 16ms/step - loss: 0.0308 - accuracy: 0.9903 - val_loss: 0.0379 - val_accuracy: 0.9880\n",
            "Epoch 4/20\n",
            "375/375 [==============================] - 6s 16ms/step - loss: 0.0235 - accuracy: 0.9922 - val_loss: 0.0406 - val_accuracy: 0.9877\n",
            "Epoch 5/20\n",
            "375/375 [==============================] - 6s 16ms/step - loss: 0.0166 - accuracy: 0.9949 - val_loss: 0.0297 - val_accuracy: 0.9915\n",
            "Epoch 6/20\n",
            "375/375 [==============================] - 6s 16ms/step - loss: 0.0133 - accuracy: 0.9955 - val_loss: 0.0427 - val_accuracy: 0.9888\n",
            "Epoch 7/20\n",
            "375/375 [==============================] - 6s 16ms/step - loss: 0.0108 - accuracy: 0.9962 - val_loss: 0.0300 - val_accuracy: 0.9918\n",
            "Epoch 8/20\n",
            "375/375 [==============================] - 6s 16ms/step - loss: 0.0103 - accuracy: 0.9968 - val_loss: 0.0340 - val_accuracy: 0.9913\n",
            "Epoch 9/20\n",
            "375/375 [==============================] - 6s 16ms/step - loss: 0.0063 - accuracy: 0.9980 - val_loss: 0.0364 - val_accuracy: 0.9903\n",
            "Epoch 10/20\n",
            "375/375 [==============================] - 6s 16ms/step - loss: 0.0070 - accuracy: 0.9981 - val_loss: 0.0380 - val_accuracy: 0.9909\n",
            "Epoch 11/20\n",
            "375/375 [==============================] - 6s 16ms/step - loss: 0.0075 - accuracy: 0.9974 - val_loss: 0.0431 - val_accuracy: 0.9900\n",
            "Epoch 12/20\n",
            "375/375 [==============================] - 6s 16ms/step - loss: 0.0080 - accuracy: 0.9972 - val_loss: 0.0334 - val_accuracy: 0.9925\n",
            "Epoch 13/20\n",
            "375/375 [==============================] - 6s 16ms/step - loss: 0.0044 - accuracy: 0.9986 - val_loss: 0.0406 - val_accuracy: 0.9898\n",
            "Epoch 14/20\n",
            "375/375 [==============================] - 6s 16ms/step - loss: 0.0045 - accuracy: 0.9985 - val_loss: 0.0459 - val_accuracy: 0.9902\n",
            "Epoch 15/20\n",
            "375/375 [==============================] - 7s 18ms/step - loss: 0.0057 - accuracy: 0.9979 - val_loss: 0.0494 - val_accuracy: 0.9893\n",
            "Epoch 16/20\n",
            "375/375 [==============================] - 6s 16ms/step - loss: 0.0032 - accuracy: 0.9989 - val_loss: 0.0532 - val_accuracy: 0.9894\n",
            "Epoch 17/20\n",
            "375/375 [==============================] - 6s 16ms/step - loss: 0.0036 - accuracy: 0.9989 - val_loss: 0.0432 - val_accuracy: 0.9914\n",
            "Epoch 18/20\n",
            "375/375 [==============================] - 6s 16ms/step - loss: 0.0031 - accuracy: 0.9990 - val_loss: 0.0393 - val_accuracy: 0.9927\n",
            "Epoch 19/20\n",
            "375/375 [==============================] - 6s 16ms/step - loss: 0.0059 - accuracy: 0.9981 - val_loss: 0.0468 - val_accuracy: 0.9898\n",
            "Epoch 20/20\n",
            "375/375 [==============================] - 6s 16ms/step - loss: 0.0030 - accuracy: 0.9991 - val_loss: 0.0511 - val_accuracy: 0.9902\n"
          ]
        }
      ]
    },
    {
      "cell_type": "code",
      "source": [
        "score = model.evaluate(X_test, y_test, verbose=VERBOSE)\n",
        "print(\"\\nTest score:\", score[0])\n",
        "print('Test accuracy:', score[1])"
      ],
      "metadata": {
        "colab": {
          "base_uri": "https://localhost:8080/"
        },
        "id": "xNWF5VUS-4sa",
        "outputId": "137e0eae-9f04-4717-e15c-35013f88f32a"
      },
      "execution_count": null,
      "outputs": [
        {
          "output_type": "stream",
          "name": "stdout",
          "text": [
            "313/313 [==============================] - 2s 5ms/step - loss: 0.0479 - accuracy: 0.9893\n",
            "\n",
            "Test score: 0.047932218760252\n",
            "Test accuracy: 0.989300012588501\n"
          ]
        }
      ]
    },
    {
      "cell_type": "code",
      "source": [
        "# list all data in history\n",
        "print(history.history.keys())\n",
        "# summarize history for accuracy\n",
        "plt.plot(history.history['accuracy'])\n",
        "plt.plot(history.history['val_accuracy'])\n",
        "plt.title('model accuracy')\n",
        "plt.ylabel('accuracy')\n",
        "plt.xlabel('epoch')\n",
        "plt.legend(['train', 'test'], loc='upper right')\n",
        "plt.show()\n",
        "# summarize history for loss\n",
        "plt.plot(history.history['loss'])\n",
        "plt.plot(history.history['val_loss'])\n",
        "plt.title('model loss')\n",
        "plt.ylabel('loss')\n",
        "plt.xlabel('epoch')\n",
        "plt.legend(['train', 'test'], loc='upper right')\n",
        "plt.show()"
      ],
      "metadata": {
        "colab": {
          "base_uri": "https://localhost:8080/",
          "height": 591
        },
        "id": "svrCFCyO4iLP",
        "outputId": "241ca4a8-271f-4a22-ef7e-eaeaf2ed9e96"
      },
      "execution_count": null,
      "outputs": [
        {
          "output_type": "stream",
          "name": "stdout",
          "text": [
            "dict_keys(['loss', 'accuracy', 'val_loss', 'val_accuracy'])\n"
          ]
        },
        {
          "output_type": "display_data",
          "data": {
            "text/plain": [
              "<Figure size 432x288 with 1 Axes>"
            ],
            "image/png": "[encoded data removed]"
          },
          "metadata": {
            "needs_background": "light"
          }
        },
        {
          "output_type": "display_data",
          "data": {
            "text/plain": [
              "<Figure size 432x288 with 1 Axes>"
            ],
            "image/png": "[encoded data removed]"
          },
          "metadata": {
            "needs_background": "light"
          }
        }
      ]
    }
  ]
}